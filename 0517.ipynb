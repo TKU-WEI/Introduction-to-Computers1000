{
  "nbformat": 4,
  "nbformat_minor": 0,
  "metadata": {
    "colab": {
      "provenance": [],
      "include_colab_link": true
    },
    "kernelspec": {
      "name": "python3",
      "display_name": "Python 3"
    },
    "language_info": {
      "name": "python"
    }
  },
  "cells": [
    {
      "cell_type": "markdown",
      "metadata": {
        "id": "view-in-github",
        "colab_type": "text"
      },
      "source": [
        "<a href=\"https://colab.research.google.com/github/TKU-WEI/Introduction-to-Computers1000/blob/main/0517.ipynb\" target=\"_parent\"><img src=\"https://colab.research.google.com/assets/colab-badge.svg\" alt=\"Open In Colab\"/></a>"
      ]
    },
    {
      "cell_type": "code",
      "execution_count": null,
      "metadata": {
        "colab": {
          "base_uri": "https://localhost:8080/"
        },
        "id": "Vy00GkGZyy8V",
        "outputId": "8aea544c-0506-4943-8e3c-cb7a87b9a443"
      },
      "outputs": [
        {
          "output_type": "stream",
          "name": "stdout",
          "text": [
            "score: 30\n",
            "score is: F\n"
          ]
        }
      ],
      "source": [
        "score = int(input(\"score: \"))\n",
        "if score >= 90:\n",
        "  print(\"score is: A\") \n",
        "elif score >= 80:\n",
        " print(\"score is: B\")  \n",
        "elif score >= 70:\n",
        " print(\"score is: C\")  \n",
        "elif score >= 60:\n",
        " print(\"score is: D\") \n",
        "else:\n",
        "   print(\"score is: F\") "
      ]
    },
    {
      "cell_type": "code",
      "source": [
        "temp = int(input(\"請輸入體溫: \"))\n",
        "if temp >= 37.5:\n",
        "  print(\"體溫過高!\")\n",
        "elif temp >= 37:\n",
        "  print(\"體溫略高!\")\n",
        "elif temp >= 34:\n",
        "  print(\"體溫正常!\")\n",
        "else:\n",
        "  print(\"體溫異常，請重新量測!\")"
      ],
      "metadata": {
        "colab": {
          "base_uri": "https://localhost:8080/"
        },
        "id": "9MhUdt8P1zte",
        "outputId": "6dba3a9b-35df-44b2-ec7c-ec5b86476f18"
      },
      "execution_count": null,
      "outputs": [
        {
          "output_type": "stream",
          "name": "stdout",
          "text": [
            "請輸入體溫: 37\n",
            "體溫略高!\n"
          ]
        }
      ]
    },
    {
      "cell_type": "code",
      "source": [
        "score = int(input(\"請輸入成績：\"))\n",
        "if score > 90 :\n",
        "  print(\"A\")\n",
        "elif 80<=score<90  :\n",
        "  print(\"B\")\n",
        "elif 70<=score<80  :\n",
        "  print(\"C\") \n",
        "elif 60<=score<70  :\n",
        "  print(\"D\")\n",
        "elif score < 60 :\n",
        "  print(\"E\") "
      ],
      "metadata": {
        "colab": {
          "base_uri": "https://localhost:8080/"
        },
        "id": "DIAVpeBX2oie",
        "outputId": "977401fb-9577-48c0-d1a2-83018729d3d0"
      },
      "execution_count": null,
      "outputs": [
        {
          "output_type": "stream",
          "name": "stdout",
          "text": [
            "請輸入成績：60\n",
            "D\n"
          ]
        }
      ]
    },
    {
      "cell_type": "code",
      "source": [
        "month = int(input(\"請輸入月份：\"))\n",
        "if 3<=month<=5 :\n",
        "  print(\"%d月是春天!\" % month)\n",
        "elif 6<=month<=8 :\n",
        "  print(\"%d月是夏天!\" % month) \n",
        "elif 9<=month<=11 :\n",
        "  print(\"%d月是秋天!\" % month) \n",
        "elif 1<=month<=2 :\n",
        "  print(\"%月是東天！\" % month) \n",
        "elif month == 12 :\n",
        "  print(\"%月是東天！\" % month) \n",
        "else :\n",
        "  print(\"%d月不在範圍內!\" % month)        "
      ],
      "metadata": {
        "colab": {
          "base_uri": "https://localhost:8080/"
        },
        "id": "1IUepAY9356h",
        "outputId": "6a970f45-1107-408d-fa75-77365a3dc313"
      },
      "execution_count": null,
      "outputs": [
        {
          "output_type": "stream",
          "name": "stdout",
          "text": [
            "請輸入月份：5\n",
            "5月是春天!\n"
          ]
        }
      ]
    },
    {
      "cell_type": "code",
      "source": [
        "tax = 0\n",
        "income = int(input(\"請輸入收入：\"))\n",
        "if income >= 2000000 :\n",
        "  tax = income*0.3\n",
        "  print(\"付稅金額: %.1f 元\" % tax)\n",
        "elif income >= 1000000 :\n",
        "  tax = income*0.21\n",
        "  print(\"付稅金額: %.1f 元\" % tax)\n",
        "elif income >= 600000 :\n",
        "  tax = income*0.13\n",
        "  print(\"付稅金額: %.1f 元\" % tax) \n",
        "elif income >= 300000 :\n",
        "  tax = income*0.06\n",
        "  print(\"付稅金額: %.1f 元\" % tax)\n",
        "else :  \n",
        "  print(\"付稅金額: %.1f 元\" % tax)\n",
        "  "
      ],
      "metadata": {
        "colab": {
          "base_uri": "https://localhost:8080/"
        },
        "id": "pk7tuHve6CqR",
        "outputId": "d898c700-f084-4e8d-c3ce-e6f1c8142951"
      },
      "execution_count": null,
      "outputs": [
        {
          "output_type": "stream",
          "name": "stdout",
          "text": [
            "請輸入收入：2000000\n",
            "付稅金額: 600000.0 元\n"
          ]
        }
      ]
    }
  ]
}