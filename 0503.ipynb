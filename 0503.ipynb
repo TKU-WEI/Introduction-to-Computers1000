{
  "nbformat": 4,
  "nbformat_minor": 0,
  "metadata": {
    "colab": {
      "provenance": [],
      "authorship_tag": "ABX9TyOAh8ZlskNIRQSL+rG1mG9T",
      "include_colab_link": true
    },
    "kernelspec": {
      "name": "python3",
      "display_name": "Python 3"
    },
    "language_info": {
      "name": "python"
    }
  },
  "cells": [
    {
      "cell_type": "markdown",
      "metadata": {
        "id": "view-in-github",
        "colab_type": "text"
      },
      "source": [
        "<a href=\"https://colab.research.google.com/github/TKU-WEI/Introduction-to-Computers1000/blob/main/0503.ipynb\" target=\"_parent\"><img src=\"https://colab.research.google.com/assets/colab-badge.svg\" alt=\"Open In Colab\"/></a>"
      ]
    },
    {
      "cell_type": "code",
      "source": [
        "a=input()\n",
        "print(a)"
      ],
      "metadata": {
        "id": "ErnHP48X1fWC"
      },
      "execution_count": null,
      "outputs": []
    },
    {
      "cell_type": "code",
      "execution_count": null,
      "metadata": {
        "colab": {
          "base_uri": "https://localhost:8080/"
        },
        "id": "a9YIxqLMVrR7",
        "outputId": "b1fe555d-a7b4-4883-fceb-d590e454a169"
      },
      "outputs": [
        {
          "output_type": "stream",
          "name": "stdout",
          "text": [
            "50\n",
            "1280\n"
          ]
        }
      ],
      "source": [
        "a=int(input())\n",
        "for i in range(10,a+1):\n",
        "  a += i\n",
        "print(a)"
      ]
    },
    {
      "cell_type": "code",
      "source": [
        "h,w=input().split()\n",
        "a=int(h)\n",
        "b=int(w)\n",
        "c=a/100\n",
        "bmi=b/c**2\n",
        "print(\"%.2f\" % bmi)"
      ],
      "metadata": {
        "colab": {
          "base_uri": "https://localhost:8080/"
        },
        "id": "2mgyZpXxXooB",
        "outputId": "1fe2599f-bead-4ff5-8cdf-4b193e013fde"
      },
      "execution_count": null,
      "outputs": [
        {
          "output_type": "stream",
          "name": "stdout",
          "text": [
            "180 70\n",
            "21.60\n"
          ]
        }
      ]
    },
    {
      "cell_type": "code",
      "source": [
        "a=input()\n",
        "list_a=list(a)\n",
        "print(len(list_a))"
      ],
      "metadata": {
        "colab": {
          "base_uri": "https://localhost:8080/"
        },
        "id": "HMDlPLaLXrRI",
        "outputId": "c94bae39-4c02-4042-a3fb-07ce83b55428"
      },
      "execution_count": null,
      "outputs": [
        {
          "output_type": "stream",
          "name": "stdout",
          "text": [
            "hello panda hi hi\n",
            "17\n"
          ]
        }
      ]
    }
  ]
}